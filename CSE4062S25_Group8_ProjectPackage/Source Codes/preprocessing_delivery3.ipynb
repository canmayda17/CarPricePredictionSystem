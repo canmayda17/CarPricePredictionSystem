{
 "cells": [
  {
   "cell_type": "code",
   "execution_count": 39,
   "id": "c46d3c74",
   "metadata": {},
   "outputs": [],
   "source": [
    "# Necessary Libraries\n",
    "import pandas as pd\n",
    "from sklearn.preprocessing import StandardScaler\n",
    "# For k-means clustering\n",
    "from sklearn.cluster import KMeans\n",
    "import matplotlib.pyplot as plt\n",
    "from sklearn.decomposition import PCA\n",
    "from sklearn.preprocessing import StandardScaler\n",
    "from scipy.cluster.hierarchy import dendrogram, linkage\n",
    "from mlxtend.frequent_patterns import apriori, association_rules\n",
    "from mlxtend.preprocessing import TransactionEncoder\n",
    "import seaborn as sns\n",
    "from sklearn.preprocessing import LabelEncoder"
   ]
  },
  {
   "cell_type": "code",
   "execution_count": 5,
   "id": "99430e3b",
   "metadata": {},
   "outputs": [],
   "source": [
    "# Read dataset\n",
    "df=pd.read_csv(\"data.csv\")"
   ]
  },
  {
   "cell_type": "code",
   "execution_count": 6,
   "id": "c5eaa044",
   "metadata": {},
   "outputs": [
    {
     "data": {
      "text/html": [
       "<div>\n",
       "<style scoped>\n",
       "    .dataframe tbody tr th:only-of-type {\n",
       "        vertical-align: middle;\n",
       "    }\n",
       "\n",
       "    .dataframe tbody tr th {\n",
       "        vertical-align: top;\n",
       "    }\n",
       "\n",
       "    .dataframe thead th {\n",
       "        text-align: right;\n",
       "    }\n",
       "</style>\n",
       "<table border=\"1\" class=\"dataframe\">\n",
       "  <thead>\n",
       "    <tr style=\"text-align: right;\">\n",
       "      <th></th>\n",
       "      <th>Unnamed: 0</th>\n",
       "      <th>brand</th>\n",
       "      <th>model</th>\n",
       "      <th>color</th>\n",
       "      <th>registration_date</th>\n",
       "      <th>year</th>\n",
       "      <th>price_in_euro</th>\n",
       "      <th>power_kw</th>\n",
       "      <th>power_ps</th>\n",
       "      <th>transmission_type</th>\n",
       "      <th>fuel_type</th>\n",
       "      <th>fuel_consumption_l_100km</th>\n",
       "      <th>fuel_consumption_g_km</th>\n",
       "      <th>mileage_in_km</th>\n",
       "      <th>offer_description</th>\n",
       "    </tr>\n",
       "  </thead>\n",
       "  <tbody>\n",
       "    <tr>\n",
       "      <th>0</th>\n",
       "      <td>0</td>\n",
       "      <td>alfa-romeo</td>\n",
       "      <td>Alfa Romeo GTV</td>\n",
       "      <td>red</td>\n",
       "      <td>10/1995</td>\n",
       "      <td>1995</td>\n",
       "      <td>1300</td>\n",
       "      <td>148</td>\n",
       "      <td>201</td>\n",
       "      <td>Manual</td>\n",
       "      <td>Petrol</td>\n",
       "      <td>10,9 l/100 km</td>\n",
       "      <td>260 g/km</td>\n",
       "      <td>160500.0</td>\n",
       "      <td>2.0 V6 TB</td>\n",
       "    </tr>\n",
       "    <tr>\n",
       "      <th>1</th>\n",
       "      <td>1</td>\n",
       "      <td>alfa-romeo</td>\n",
       "      <td>Alfa Romeo 164</td>\n",
       "      <td>black</td>\n",
       "      <td>02/1995</td>\n",
       "      <td>1995</td>\n",
       "      <td>24900</td>\n",
       "      <td>191</td>\n",
       "      <td>260</td>\n",
       "      <td>Manual</td>\n",
       "      <td>Petrol</td>\n",
       "      <td>NaN</td>\n",
       "      <td>- (g/km)</td>\n",
       "      <td>190000.0</td>\n",
       "      <td>Q4 Allrad, 3.2L GTA</td>\n",
       "    </tr>\n",
       "    <tr>\n",
       "      <th>2</th>\n",
       "      <td>2</td>\n",
       "      <td>alfa-romeo</td>\n",
       "      <td>Alfa Romeo Spider</td>\n",
       "      <td>black</td>\n",
       "      <td>02/1995</td>\n",
       "      <td>1995</td>\n",
       "      <td>5900</td>\n",
       "      <td>110</td>\n",
       "      <td>150</td>\n",
       "      <td>Unknown</td>\n",
       "      <td>Petrol</td>\n",
       "      <td>NaN</td>\n",
       "      <td>- (g/km)</td>\n",
       "      <td>129000.0</td>\n",
       "      <td>ALFA ROME 916</td>\n",
       "    </tr>\n",
       "    <tr>\n",
       "      <th>3</th>\n",
       "      <td>3</td>\n",
       "      <td>alfa-romeo</td>\n",
       "      <td>Alfa Romeo Spider</td>\n",
       "      <td>black</td>\n",
       "      <td>07/1995</td>\n",
       "      <td>1995</td>\n",
       "      <td>4900</td>\n",
       "      <td>110</td>\n",
       "      <td>150</td>\n",
       "      <td>Manual</td>\n",
       "      <td>Petrol</td>\n",
       "      <td>9,5 l/100 km</td>\n",
       "      <td>225 g/km</td>\n",
       "      <td>189500.0</td>\n",
       "      <td>2.0 16V Twin Spark L</td>\n",
       "    </tr>\n",
       "    <tr>\n",
       "      <th>4</th>\n",
       "      <td>4</td>\n",
       "      <td>alfa-romeo</td>\n",
       "      <td>Alfa Romeo 164</td>\n",
       "      <td>red</td>\n",
       "      <td>11/1996</td>\n",
       "      <td>1996</td>\n",
       "      <td>17950</td>\n",
       "      <td>132</td>\n",
       "      <td>179</td>\n",
       "      <td>Manual</td>\n",
       "      <td>Petrol</td>\n",
       "      <td>7,2 l/100 km</td>\n",
       "      <td>- (g/km)</td>\n",
       "      <td>96127.0</td>\n",
       "      <td>3.0i Super V6, absoluter Topzustand !</td>\n",
       "    </tr>\n",
       "  </tbody>\n",
       "</table>\n",
       "</div>"
      ],
      "text/plain": [
       "   Unnamed: 0       brand              model  color registration_date  year  \\\n",
       "0           0  alfa-romeo     Alfa Romeo GTV    red           10/1995  1995   \n",
       "1           1  alfa-romeo     Alfa Romeo 164  black           02/1995  1995   \n",
       "2           2  alfa-romeo  Alfa Romeo Spider  black           02/1995  1995   \n",
       "3           3  alfa-romeo  Alfa Romeo Spider  black           07/1995  1995   \n",
       "4           4  alfa-romeo     Alfa Romeo 164    red           11/1996  1996   \n",
       "\n",
       "  price_in_euro power_kw power_ps transmission_type fuel_type  \\\n",
       "0          1300      148      201            Manual    Petrol   \n",
       "1         24900      191      260            Manual    Petrol   \n",
       "2          5900      110      150           Unknown    Petrol   \n",
       "3          4900      110      150            Manual    Petrol   \n",
       "4         17950      132      179            Manual    Petrol   \n",
       "\n",
       "  fuel_consumption_l_100km fuel_consumption_g_km  mileage_in_km  \\\n",
       "0            10,9 l/100 km              260 g/km       160500.0   \n",
       "1                      NaN              - (g/km)       190000.0   \n",
       "2                      NaN              - (g/km)       129000.0   \n",
       "3             9,5 l/100 km              225 g/km       189500.0   \n",
       "4             7,2 l/100 km              - (g/km)        96127.0   \n",
       "\n",
       "                       offer_description  \n",
       "0                              2.0 V6 TB  \n",
       "1                    Q4 Allrad, 3.2L GTA  \n",
       "2                          ALFA ROME 916  \n",
       "3                   2.0 16V Twin Spark L  \n",
       "4  3.0i Super V6, absoluter Topzustand !  "
      ]
     },
     "execution_count": 6,
     "metadata": {},
     "output_type": "execute_result"
    }
   ],
   "source": [
    "# Display Dataset\n",
    "df.head()"
   ]
  },
  {
   "cell_type": "code",
   "execution_count": 7,
   "id": "e43a9342",
   "metadata": {},
   "outputs": [
    {
     "name": "stdout",
     "output_type": "stream",
     "text": [
      "<class 'pandas.core.frame.DataFrame'>\n",
      "RangeIndex: 251079 entries, 0 to 251078\n",
      "Data columns (total 15 columns):\n",
      " #   Column                    Non-Null Count   Dtype  \n",
      "---  ------                    --------------   -----  \n",
      " 0   Unnamed: 0                251079 non-null  int64  \n",
      " 1   brand                     251079 non-null  object \n",
      " 2   model                     251079 non-null  object \n",
      " 3   color                     250913 non-null  object \n",
      " 4   registration_date         251075 non-null  object \n",
      " 5   year                      251079 non-null  object \n",
      " 6   price_in_euro             251079 non-null  object \n",
      " 7   power_kw                  250945 non-null  object \n",
      " 8   power_ps                  250950 non-null  object \n",
      " 9   transmission_type         251079 non-null  object \n",
      " 10  fuel_type                 251079 non-null  object \n",
      " 11  fuel_consumption_l_100km  224206 non-null  object \n",
      " 12  fuel_consumption_g_km     251079 non-null  object \n",
      " 13  mileage_in_km             250927 non-null  float64\n",
      " 14  offer_description         251078 non-null  object \n",
      "dtypes: float64(1), int64(1), object(13)\n",
      "memory usage: 28.7+ MB\n"
     ]
    }
   ],
   "source": [
    "# Display information about dataset\n",
    "# Begin of data preprocessing\n",
    "df.info()"
   ]
  },
  {
   "cell_type": "code",
   "execution_count": 8,
   "id": "0ebedb52",
   "metadata": {},
   "outputs": [
    {
     "data": {
      "text/plain": [
       "brand                           0\n",
       "model                           0\n",
       "color                         166\n",
       "year                            0\n",
       "price_in_euro                   0\n",
       "power_kw                      134\n",
       "power_ps                      129\n",
       "transmission_type               0\n",
       "fuel_type                       0\n",
       "fuel_consumption_l_100km    26873\n",
       "fuel_consumption_g_km           0\n",
       "mileage_in_km                 152\n",
       "dtype: int64"
      ]
     },
     "execution_count": 8,
     "metadata": {},
     "output_type": "execute_result"
    }
   ],
   "source": [
    "# Drop columns that will not contribute to the model.\n",
    "# Drop column registration_date because it looks a lot like year. Same year only as an extra there is a month.\n",
    "df.drop(columns=['Unnamed: 0', 'offer_description', 'registration_date'], inplace=True)\n",
    "\n",
    "# Display total null value number column by column\n",
    "df.isnull().sum()"
   ]
  },
  {
   "cell_type": "code",
   "execution_count": 9,
   "id": "6c3e1b6f",
   "metadata": {},
   "outputs": [
    {
     "data": {
      "text/plain": [
       "brand                           0\n",
       "model                           0\n",
       "color                           0\n",
       "year                            0\n",
       "price_in_euro                   0\n",
       "power_kw                      134\n",
       "power_ps                      129\n",
       "transmission_type               0\n",
       "fuel_type                       0\n",
       "fuel_consumption_l_100km    26873\n",
       "fuel_consumption_g_km           0\n",
       "mileage_in_km                 152\n",
       "dtype: int64"
      ]
     },
     "execution_count": 9,
     "metadata": {},
     "output_type": "execute_result"
    }
   ],
   "source": [
    "# Fill in empty categorical data (color) with unknown\n",
    "df['color'] = df['color'].fillna('unknown')\n",
    "\n",
    "# Display total null value number column by column\n",
    "df.isnull().sum()"
   ]
  },
  {
   "cell_type": "code",
   "execution_count": 10,
   "id": "285d83ff",
   "metadata": {},
   "outputs": [
    {
     "data": {
      "text/plain": [
       "brand                           0\n",
       "model                           0\n",
       "color                           0\n",
       "year                            0\n",
       "price_in_euro                 199\n",
       "power_kw                      293\n",
       "power_ps                      210\n",
       "transmission_type               0\n",
       "fuel_type                       0\n",
       "fuel_consumption_l_100km    29172\n",
       "fuel_consumption_g_km       42250\n",
       "mileage_in_km                 152\n",
       "dtype: int64"
      ]
     },
     "execution_count": 10,
     "metadata": {},
     "output_type": "execute_result"
    }
   ],
   "source": [
    "# Converting numeric objects to numeric variables\n",
    "df['fuel_consumption_l_100km'] = df['fuel_consumption_l_100km'].str.replace(' l/100 km', '', regex=False)\n",
    "df['fuel_consumption_l_100km'] = df['fuel_consumption_l_100km'].str.replace(',', '.', regex=False)\n",
    "df['fuel_consumption_l_100km'] = pd.to_numeric(df['fuel_consumption_l_100km'], errors='coerce')\n",
    "\n",
    "df['fuel_consumption_g_km'] = df['fuel_consumption_g_km'].replace(r'-.*', pd.NA, regex=True)\n",
    "df['fuel_consumption_g_km'] = df['fuel_consumption_g_km'].str.replace(' g/km', '', regex=False)\n",
    "df['fuel_consumption_g_km'] = pd.to_numeric(df['fuel_consumption_g_km'], errors='coerce')\n",
    "\n",
    "df['price_in_euro'] = df['price_in_euro'].str.replace(' €', '', regex=False)\n",
    "df['price_in_euro'] = df['price_in_euro'].str.replace('.', '', regex=False)\n",
    "df['price_in_euro'] = pd.to_numeric(df['price_in_euro'], errors='coerce')\n",
    "\n",
    "df['power_kw'] = pd.to_numeric(df['power_kw'], errors='coerce')\n",
    "\n",
    "df['power_ps'] = pd.to_numeric(df['power_ps'], errors='coerce')\n",
    "\n",
    "# Display total null value number column by column\n",
    "df.isnull().sum()"
   ]
  },
  {
   "cell_type": "code",
   "execution_count": 11,
   "id": "d95d7580",
   "metadata": {},
   "outputs": [
    {
     "data": {
      "text/plain": [
       "brand                       0\n",
       "model                       0\n",
       "color                       0\n",
       "year                        0\n",
       "price_in_euro               0\n",
       "power_kw                    0\n",
       "power_ps                    0\n",
       "transmission_type           0\n",
       "fuel_type                   0\n",
       "fuel_consumption_l_100km    0\n",
       "fuel_consumption_g_km       0\n",
       "mileage_in_km               0\n",
       "dtype: int64"
      ]
     },
     "execution_count": 11,
     "metadata": {},
     "output_type": "execute_result"
    }
   ],
   "source": [
    "# Fill missing numeric values with the mean\n",
    "df['fuel_consumption_l_100km'] = df['fuel_consumption_l_100km'].fillna(df['fuel_consumption_l_100km'].mean())\n",
    "df['fuel_consumption_g_km'] = df['fuel_consumption_g_km'].fillna(df['fuel_consumption_g_km'].mean())\n",
    "df['price_in_euro'] = df['price_in_euro'].fillna(df['price_in_euro'].mean())\n",
    "df['power_kw'] = df['power_kw'].fillna(df['power_kw'].mean())\n",
    "df['power_ps'] = df['power_ps'].fillna(df['power_ps'].mean())\n",
    "df['mileage_in_km'] = df['mileage_in_km'].fillna(df['mileage_in_km'].mean())\n",
    "\n",
    "# Display total null value number column by column\n",
    "df.isnull().sum()"
   ]
  },
  {
   "cell_type": "code",
   "execution_count": 12,
   "id": "6f612928",
   "metadata": {},
   "outputs": [
    {
     "name": "stdout",
     "output_type": "stream",
     "text": [
      "<class 'pandas.core.frame.DataFrame'>\n",
      "RangeIndex: 251079 entries, 0 to 251078\n",
      "Data columns (total 12 columns):\n",
      " #   Column                    Non-Null Count   Dtype  \n",
      "---  ------                    --------------   -----  \n",
      " 0   brand                     251079 non-null  object \n",
      " 1   model                     251079 non-null  object \n",
      " 2   color                     251079 non-null  object \n",
      " 3   year                      251079 non-null  object \n",
      " 4   price_in_euro             251079 non-null  float64\n",
      " 5   power_kw                  251079 non-null  float64\n",
      " 6   power_ps                  251079 non-null  float64\n",
      " 7   transmission_type         251079 non-null  object \n",
      " 8   fuel_type                 251079 non-null  object \n",
      " 9   fuel_consumption_l_100km  251079 non-null  float64\n",
      " 10  fuel_consumption_g_km     251079 non-null  float64\n",
      " 11  mileage_in_km             251079 non-null  float64\n",
      "dtypes: float64(6), object(6)\n",
      "memory usage: 23.0+ MB\n"
     ]
    },
    {
     "data": {
      "text/html": [
       "<div>\n",
       "<style scoped>\n",
       "    .dataframe tbody tr th:only-of-type {\n",
       "        vertical-align: middle;\n",
       "    }\n",
       "\n",
       "    .dataframe tbody tr th {\n",
       "        vertical-align: top;\n",
       "    }\n",
       "\n",
       "    .dataframe thead th {\n",
       "        text-align: right;\n",
       "    }\n",
       "</style>\n",
       "<table border=\"1\" class=\"dataframe\">\n",
       "  <thead>\n",
       "    <tr style=\"text-align: right;\">\n",
       "      <th></th>\n",
       "      <th>brand</th>\n",
       "      <th>model</th>\n",
       "      <th>color</th>\n",
       "      <th>year</th>\n",
       "      <th>price_in_euro</th>\n",
       "      <th>power_kw</th>\n",
       "      <th>power_ps</th>\n",
       "      <th>transmission_type</th>\n",
       "      <th>fuel_type</th>\n",
       "      <th>fuel_consumption_l_100km</th>\n",
       "      <th>fuel_consumption_g_km</th>\n",
       "      <th>mileage_in_km</th>\n",
       "    </tr>\n",
       "  </thead>\n",
       "  <tbody>\n",
       "    <tr>\n",
       "      <th>0</th>\n",
       "      <td>alfa-romeo</td>\n",
       "      <td>Alfa Romeo GTV</td>\n",
       "      <td>red</td>\n",
       "      <td>1995</td>\n",
       "      <td>1300.0</td>\n",
       "      <td>148.0</td>\n",
       "      <td>201.0</td>\n",
       "      <td>Manual</td>\n",
       "      <td>Petrol</td>\n",
       "      <td>10.900000</td>\n",
       "      <td>260.000000</td>\n",
       "      <td>160500.0</td>\n",
       "    </tr>\n",
       "    <tr>\n",
       "      <th>1</th>\n",
       "      <td>alfa-romeo</td>\n",
       "      <td>Alfa Romeo 164</td>\n",
       "      <td>black</td>\n",
       "      <td>1995</td>\n",
       "      <td>24900.0</td>\n",
       "      <td>191.0</td>\n",
       "      <td>260.0</td>\n",
       "      <td>Manual</td>\n",
       "      <td>Petrol</td>\n",
       "      <td>6.487279</td>\n",
       "      <td>140.802646</td>\n",
       "      <td>190000.0</td>\n",
       "    </tr>\n",
       "    <tr>\n",
       "      <th>2</th>\n",
       "      <td>alfa-romeo</td>\n",
       "      <td>Alfa Romeo Spider</td>\n",
       "      <td>black</td>\n",
       "      <td>1995</td>\n",
       "      <td>5900.0</td>\n",
       "      <td>110.0</td>\n",
       "      <td>150.0</td>\n",
       "      <td>Unknown</td>\n",
       "      <td>Petrol</td>\n",
       "      <td>6.487279</td>\n",
       "      <td>140.802646</td>\n",
       "      <td>129000.0</td>\n",
       "    </tr>\n",
       "    <tr>\n",
       "      <th>3</th>\n",
       "      <td>alfa-romeo</td>\n",
       "      <td>Alfa Romeo Spider</td>\n",
       "      <td>black</td>\n",
       "      <td>1995</td>\n",
       "      <td>4900.0</td>\n",
       "      <td>110.0</td>\n",
       "      <td>150.0</td>\n",
       "      <td>Manual</td>\n",
       "      <td>Petrol</td>\n",
       "      <td>9.500000</td>\n",
       "      <td>225.000000</td>\n",
       "      <td>189500.0</td>\n",
       "    </tr>\n",
       "    <tr>\n",
       "      <th>4</th>\n",
       "      <td>alfa-romeo</td>\n",
       "      <td>Alfa Romeo 164</td>\n",
       "      <td>red</td>\n",
       "      <td>1996</td>\n",
       "      <td>17950.0</td>\n",
       "      <td>132.0</td>\n",
       "      <td>179.0</td>\n",
       "      <td>Manual</td>\n",
       "      <td>Petrol</td>\n",
       "      <td>7.200000</td>\n",
       "      <td>140.802646</td>\n",
       "      <td>96127.0</td>\n",
       "    </tr>\n",
       "  </tbody>\n",
       "</table>\n",
       "</div>"
      ],
      "text/plain": [
       "        brand              model  color  year  price_in_euro  power_kw  \\\n",
       "0  alfa-romeo     Alfa Romeo GTV    red  1995         1300.0     148.0   \n",
       "1  alfa-romeo     Alfa Romeo 164  black  1995        24900.0     191.0   \n",
       "2  alfa-romeo  Alfa Romeo Spider  black  1995         5900.0     110.0   \n",
       "3  alfa-romeo  Alfa Romeo Spider  black  1995         4900.0     110.0   \n",
       "4  alfa-romeo     Alfa Romeo 164    red  1996        17950.0     132.0   \n",
       "\n",
       "   power_ps transmission_type fuel_type  fuel_consumption_l_100km  \\\n",
       "0     201.0            Manual    Petrol                 10.900000   \n",
       "1     260.0            Manual    Petrol                  6.487279   \n",
       "2     150.0           Unknown    Petrol                  6.487279   \n",
       "3     150.0            Manual    Petrol                  9.500000   \n",
       "4     179.0            Manual    Petrol                  7.200000   \n",
       "\n",
       "   fuel_consumption_g_km  mileage_in_km  \n",
       "0             260.000000       160500.0  \n",
       "1             140.802646       190000.0  \n",
       "2             140.802646       129000.0  \n",
       "3             225.000000       189500.0  \n",
       "4             140.802646        96127.0  "
      ]
     },
     "execution_count": 12,
     "metadata": {},
     "output_type": "execute_result"
    }
   ],
   "source": [
    "# Display information about dataset\n",
    "df.info()\n",
    "df.head()"
   ]
  },
  {
   "cell_type": "code",
   "execution_count": 24,
   "id": "c5fe1171",
   "metadata": {},
   "outputs": [],
   "source": [
    "# En çok geçen 5 rengi bul\n",
    "top5_colors = df['color'].value_counts().nlargest(5).index\n",
    "\n",
    "# Diğer tüm renkleri 'others' olarak değiştir\n",
    "df['color'] = df['color'].apply(lambda x: x if x in top5_colors else 'others')\n"
   ]
  },
  {
   "cell_type": "code",
   "execution_count": 25,
   "id": "ad97bdcc",
   "metadata": {},
   "outputs": [],
   "source": [
    "# En çok geçen 5 brand bul\n",
    "top5_brands = df['brand'].value_counts().nlargest(5).index\n",
    "\n",
    "# Diğer tüm renkleri 'others' olarak değiştir\n",
    "df['brand'] = df['brand'].apply(lambda x: x if x in top5_brands else 'others')\n"
   ]
  },
  {
   "cell_type": "code",
   "execution_count": 27,
   "id": "18e8cd3d",
   "metadata": {},
   "outputs": [],
   "source": [
    "# En çok geçen 5 model bul\n",
    "top5_models = df['model'].value_counts().nlargest(5).index\n",
    "\n",
    "# Diğer tüm renkleri 'others' olarak değiştir\n",
    "df['model'] = df['model'].apply(lambda x: x if x in top5_models else 'others')"
   ]
  },
  {
   "cell_type": "code",
   "execution_count": 31,
   "id": "8bc1b75a",
   "metadata": {},
   "outputs": [
    {
     "name": "stdout",
     "output_type": "stream",
     "text": [
      "float64\n"
     ]
    }
   ],
   "source": [
    "# Sayısal olmayanları otomatik olarak NaN yap\n",
    "df['year'] = pd.to_numeric(df['year'], errors='coerce')\n",
    "\n",
    "df['year'] = df['year'].fillna(df['year'].median())\n",
    "\n",
    "# Şimdi float oldu, ama geçersizler NaN\n",
    "print(df['year'].dtype)  # float64\n"
   ]
  },
  {
   "cell_type": "code",
   "execution_count": 33,
   "id": "c0cd3080",
   "metadata": {},
   "outputs": [],
   "source": [
    "# En çok geçen 5 fuel bul\n",
    "top5_fuels = df['fuel_type'].value_counts().nlargest(5).index\n",
    "\n",
    "# Diğer tüm renkleri 'others' olarak değiştir\n",
    "df['fuel_type'] = df['fuel_type'].apply(lambda x: x if x in top5_fuels else 'others')"
   ]
  },
  {
   "cell_type": "code",
   "execution_count": 36,
   "id": "9ad68081",
   "metadata": {},
   "outputs": [
    {
     "name": "stdout",
     "output_type": "stream",
     "text": [
      "Unique values\n",
      "brand: 6\n",
      "model: 6\n",
      "color: 6\n",
      "year: 33\n",
      "price_in_euro: 18081\n",
      "power_kw: 512\n",
      "power_ps: 521\n",
      "transmission_type: 4\n",
      "fuel_type: 6\n",
      "fuel_consumption_l_100km: 268\n",
      "fuel_consumption_g_km: 492\n",
      "mileage_in_km: 71767\n"
     ]
    }
   ],
   "source": [
    "print(f\"Unique values\")\n",
    "for column in df.columns:\n",
    "    print(f\"{column}: {df[column].nunique()}\")"
   ]
  },
  {
   "cell_type": "code",
   "execution_count": null,
   "id": "fc08fa9b",
   "metadata": {},
   "outputs": [],
   "source": [
    "#Encoding\n",
    "le = LabelEncoder()\n",
    "df['color_encoded'] = le.fit_transform(df['color'])\n",
    "df['brand_encoded'] = le.fit_transform(df['brand'])\n",
    "df['model_encoded'] = le.fit_transform(df['model'])\n",
    "df['fuel_type_encoded'] = le.fit_transform(df['fuel_type'])\n",
    "df['transmission_type_encoded'] = le.fit_transform(df['transmission_type'])\n",
    "\n",
    "df = df.drop('color', axis=1)\n",
    "df = df.drop('brand', axis=1)\n",
    "df = df.drop('model', axis=1)\n",
    "df = df.drop('fuel_type', axis=1)\n",
    "df = df.drop('transmission_type', axis=1)"
   ]
  },
  {
   "cell_type": "code",
   "execution_count": 46,
   "id": "6589ce5e",
   "metadata": {},
   "outputs": [
    {
     "name": "stdout",
     "output_type": "stream",
     "text": [
      "<class 'pandas.core.frame.DataFrame'>\n",
      "RangeIndex: 251079 entries, 0 to 251078\n",
      "Data columns (total 12 columns):\n",
      " #   Column                     Non-Null Count   Dtype  \n",
      "---  ------                     --------------   -----  \n",
      " 0   year                       251079 non-null  float64\n",
      " 1   price_in_euro              251079 non-null  float64\n",
      " 2   power_kw                   251079 non-null  float64\n",
      " 3   power_ps                   251079 non-null  float64\n",
      " 4   fuel_consumption_l_100km   251079 non-null  float64\n",
      " 5   fuel_consumption_g_km      251079 non-null  float64\n",
      " 6   mileage_in_km              251079 non-null  float64\n",
      " 7   color_encoded              251079 non-null  int64  \n",
      " 8   brand_encoded              251079 non-null  int64  \n",
      " 9   model_encoded              251079 non-null  int64  \n",
      " 10  fuel_type_encoded          251079 non-null  int64  \n",
      " 11  transmission_type_encoded  251079 non-null  int64  \n",
      "dtypes: float64(7), int64(5)\n",
      "memory usage: 23.0 MB\n"
     ]
    }
   ],
   "source": [
    "df.info()"
   ]
  }
 ],
 "metadata": {
  "kernelspec": {
   "display_name": "Python 3",
   "language": "python",
   "name": "python3"
  },
  "language_info": {
   "codemirror_mode": {
    "name": "ipython",
    "version": 3
   },
   "file_extension": ".py",
   "mimetype": "text/x-python",
   "name": "python",
   "nbconvert_exporter": "python",
   "pygments_lexer": "ipython3",
   "version": "3.11.4"
  }
 },
 "nbformat": 4,
 "nbformat_minor": 5
}
